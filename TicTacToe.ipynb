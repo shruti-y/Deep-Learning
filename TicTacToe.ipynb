{
  "nbformat": 4,
  "nbformat_minor": 0,
  "metadata": {
    "colab": {
      "name": "TicTacToe.ipynb",
      "provenance": [],
      "collapsed_sections": []
    },
    "kernelspec": {
      "display_name": "Python 3",
      "language": "python",
      "name": "python3"
    },
    "language_info": {
      "codemirror_mode": {
        "name": "ipython",
        "version": 3
      },
      "file_extension": ".py",
      "mimetype": "text/x-python",
      "name": "python",
      "nbconvert_exporter": "python",
      "pygments_lexer": "ipython3",
      "version": "3.7.4"
    }
  },
  "cells": [
    {
      "cell_type": "markdown",
      "metadata": {
        "id": "kdLtY9WviBTN"
      },
      "source": [
        "Training a simple Q-network in TensorFlow to solve Tic Tac Toe."
      ]
    },
    {
      "cell_type": "code",
      "metadata": {
        "id": "7z29dkm2oA4_"
      },
      "source": [
        "import random\n",
        "import collections\n",
        "import numpy as np\n",
        "import tensorflow as tf\n",
        "import matplotlib.pyplot as plt\n",
        "import matplotlib.ticker\n",
        "%matplotlib inline"
      ],
      "execution_count": null,
      "outputs": []
    },
    {
      "cell_type": "code",
      "metadata": {
        "id": "xv_30ZVSoA4_"
      },
      "source": [
        "def new_board(size):\n",
        "    return np.zeros(shape=(size, size))"
      ],
      "execution_count": null,
      "outputs": []
    },
    {
      "cell_type": "code",
      "metadata": {
        "id": "nxSWzNXLoA4_"
      },
      "source": [
        "def available_moves(board):\n",
        "    return np.argwhere(board == 0)"
      ],
      "execution_count": null,
      "outputs": []
    },
    {
      "cell_type": "code",
      "metadata": {
        "id": "pPIz-ZocoA4_"
      },
      "source": [
        "def check_game_end(board):\n",
        "    best = max(list(board.sum(axis=0)) +    # columns\n",
        "               list(board.sum(axis=1)) +    # rows\n",
        "               [board.trace()] +            # main diagonal\n",
        "               [np.fliplr(board).trace()],  # other diagonal\n",
        "               key=abs)\n",
        "    if abs(best) == board.shape[0]: \n",
        "        return np.sign(best)  # winning player, +1 or -1\n",
        "    if available_moves(board).size == 0:\n",
        "        return 0  # a draw (otherwise, return None by default)"
      ],
      "execution_count": null,
      "outputs": []
    },
    {
      "cell_type": "markdown",
      "metadata": {
        "id": "YV0_JWY_iz0U"
      },
      "source": [
        "Defining our players.  *Random* player picks a random position in the board each move."
      ]
    },
    {
      "cell_type": "code",
      "metadata": {
        "id": "dg7huG59oA4_"
      },
      "source": [
        "class Player():\n",
        "    def new_game(self):\n",
        "        pass\n",
        "    def reward(self, value):\n",
        "        pass\n",
        "\n",
        "class RandomPlayer(Player):\n",
        "    def move(self, board):\n",
        "        return random.choice(available_moves(board))"
      ],
      "execution_count": null,
      "outputs": []
    },
    {
      "cell_type": "code",
      "metadata": {
        "id": "BH3F96S0oA4_"
      },
      "source": [
        "class BoringPlayer(Player):\n",
        "    def move(self, board):\n",
        "        return available_moves(board)[0]"
      ],
      "execution_count": null,
      "outputs": []
    },
    {
      "cell_type": "markdown",
      "metadata": {
        "id": "4oUX34hMj1aj"
      },
      "source": [
        "Simulation of games by playing one bot vs another. The starting player is labeled +1."
      ]
    },
    {
      "cell_type": "code",
      "metadata": {
        "id": "CLcrjxQioA4_"
      },
      "source": [
        "def play(board, player_objs):\n",
        "    for player in [+1, -1]:\n",
        "        player_objs[player].new_game()\n",
        "    player = +1\n",
        "    game_end = check_game_end(board)\n",
        "    while game_end is None:\n",
        "        move = player_objs[player].move(board)\n",
        "        board[tuple(move)] = player\n",
        "        game_end = check_game_end(board)\n",
        "        player *= -1  # switch players\n",
        "    for player in [+1, -1]:\n",
        "        # the reward for wins is +1, and -1 for draws/losses\n",
        "        reward_value = +1 if player == game_end else -1\n",
        "        player_objs[player].reward(reward_value)\n",
        "    return game_end\n"
      ],
      "execution_count": null,
      "outputs": []
    },
    {
      "cell_type": "code",
      "metadata": {
        "id": "-InFBCMooA4_",
        "colab": {
          "base_uri": "https://localhost:8080/"
        },
        "outputId": "19452b5a-1175-4b1f-acb3-7cfd20942782"
      },
      "source": [
        "# 3x3, random vs. random\n",
        "\n",
        "# Playing 2000 games between two bots, both of them random players.\n",
        "\n",
        "random.seed(1)\n",
        "games=2000\n",
        "results=[None] * 2000\n",
        "for game in range(games):\n",
        "  results[game]=play(new_board(3), {+1: RandomPlayer(), -1: RandomPlayer()})\n",
        "\n",
        "Player1_win=0\n",
        "Player2_win=0\n",
        "draw=0\n",
        "for result in results:\n",
        "        if result==1.0:\n",
        "          Player1_win+=1\n",
        "        elif result==-1.0: \n",
        "          Player2_win+=1\n",
        "        elif result==0:\n",
        "          draw+=1\n",
        "\n",
        "print(\"Random Player 1 has won\",Player1_win,\"games\")\n",
        "print(\"Random Player 2 has won\",Player2_win,\"games\")\n",
        "print(\"Number of draw games is\",draw)  "
      ],
      "execution_count": null,
      "outputs": [
        {
          "output_type": "stream",
          "text": [
            "Player 1 has won 1194 games\n",
            "Player 2 has won 564 games\n",
            "Number of draw games is 242\n"
          ],
          "name": "stdout"
        }
      ]
    },
    {
      "cell_type": "code",
      "metadata": {
        "id": "vdAMumwhoA4_"
      },
      "source": [
        "\n",
        "def moving(data, value=+1, size=500):\n",
        "    binary_data = [x == value for x in data]\n",
        "    return [sum(binary_data[i-size:i])/size for i in range(size, len(data) + 1)]    \n",
        "\n",
        "def show(results, size=500, title='Moving average of game outcomes',\n",
        "    first_label='First Player Wins', second_label='Second Player Wins', draw_label='Draw'):\n",
        "    x_values = range(size, len(results) + 1)\n",
        "    first = moving(results, value=+1, size=size)\n",
        "    second = moving(results, value=-1, size=size)\n",
        "    draw = moving(results, value=0, size=size)\n",
        "    first, = plt.plot(x_values, first, color='red', label=first_label)\n",
        "    second, = plt.plot(x_values, second, color='blue', label=second_label)\n",
        "    draw, = plt.plot(x_values, draw, color='grey', label=draw_label)\n",
        "    plt.xlim([0, len(results)])\n",
        "    plt.ylim([0, 1])\n",
        "    plt.title(title)\n",
        "    plt.legend(handles=[first, second, draw], loc='best')\n",
        "    ax = plt.gca()\n",
        "    ax.yaxis.set_major_formatter(matplotlib.ticker.PercentFormatter(xmax=1))\n",
        "    ax.xaxis.set_major_formatter(matplotlib.ticker.StrMethodFormatter('{x:,.0f}'))\n",
        "    plt.ylabel(f'Rate over last {size} games')\n",
        "    plt.xlabel('Game index')\n",
        "    plt.show()"
      ],
      "execution_count": null,
      "outputs": []
    },
    {
      "cell_type": "code",
      "metadata": {
        "colab": {
          "base_uri": "https://localhost:8080/",
          "height": 295
        },
        "id": "O0NIb6ti7Xt3",
        "outputId": "1ec3bf6d-ccd4-4b2c-e319-a7f8f5e9ba16"
      },
      "source": [
        "show(results, title='Plot for Random vs Random Player')"
      ],
      "execution_count": null,
      "outputs": [
        {
          "output_type": "display_data",
          "data": {
            "image/png": "[encoded data removed]",
            "text/plain": [
              "<Figure size 432x288 with 1 Axes>"
            ]
          },
          "metadata": {
            "tags": [],
            "needs_background": "light"
          }
        }
      ]
    },
    {
      "cell_type": "code",
      "metadata": {
        "id": "YSTphX8_oA4_",
        "colab": {
          "base_uri": "https://localhost:8080/",
          "height": 346
        },
        "outputId": "65e55021-c838-48dd-e58d-beea0897a348"
      },
      "source": [
        "# 3x3, random vs. boring\n",
        "\n",
        "#Playing 2000 games between two bots, where Player 1 is Random and Player 2 is Boring.\n",
        "\n",
        "\n",
        "random.seed(2)\n",
        "\n",
        "games=2000\n",
        "results=[None] * 2000\n",
        "for game in range(games):\n",
        "  results[game]=play(new_board(3), {+1: BoringPlayer(), -1: RandomPlayer()})\n",
        "Boring_player_wins=0\n",
        "Random_player_wins=0\n",
        "draw=0\n",
        "for result in results:\n",
        "        if result==1.0:\n",
        "          Boring_player_wins+=1\n",
        "        elif result==-1.0: \n",
        "          Random_player_wins+=1\n",
        "        elif result==0:\n",
        "          draw+=1\n",
        "\n",
        "# Comment on the results, and speculate on why this might be happening.\n",
        "\n",
        "print(\"Boring player has won\",Boring_player_wins,\"games\")\n",
        "print(\"Random player has won\",Random_player_wins,\"games\")\n",
        "print(\"Number of draw games is\",draw)\n",
        "\n",
        "\n",
        "show(results, title='Plot for Boring vs Random Player')"
      ],
      "execution_count": null,
      "outputs": [
        {
          "output_type": "stream",
          "text": [
            "Boring player has won 1557 games\n",
            "Random player has won 360 games\n",
            "Number of draw games is 83\n"
          ],
          "name": "stdout"
        },
        {
          "output_type": "display_data",
          "data": {
            "image/png": "[encoded data removed]",
            "text/plain": [
              "<Figure size 432x288 with 1 Axes>"
            ]
          },
          "metadata": {
            "tags": [],
            "needs_background": "light"
          }
        }
      ]
    },
    {
      "cell_type": "markdown",
      "metadata": {
        "id": "EfeELyRqT-rW"
      },
      "source": [
        "## As we can see here, a *boring* player almost always does better than a random player as it is still a better policy than only taking random actions."
      ]
    },
    {
      "cell_type": "markdown",
      "metadata": {
        "id": "_yN_Od9DBjkE"
      },
      "source": [
        "Here we can see that he boring player does better than a random player."
      ]
    },
    {
      "cell_type": "markdown",
      "metadata": {
        "id": "GRwAxMN8l1fJ"
      },
      "source": [
        "We will now use Q-learning using a neural network to train an RL agent. \n",
        "\n",
        "The Q-function will be parametrically represented via a very simple single layer with linear activations (essentially, a linear model).\n",
        "\n",
        "Complete the Q-learning part in the code snippet below.\n",
        "\n"
      ]
    },
    {
      "cell_type": "code",
      "metadata": {
        "id": "5PSqOYqVoA5A"
      },
      "source": [
        "class Agent(Player):\n",
        "    # Define single layer model, MSE loss, and SGD optimizer\n",
        "    def __init__(self, size, seed):\n",
        "        self.size = size\n",
        "        self.training = True\n",
        "        self.model = tf.keras.Sequential()\n",
        "        self.model.add(tf.keras.layers.Dense(\n",
        "            size**2,\n",
        "            kernel_initializer=tf.keras.initializers.glorot_uniform(seed=seed)))\n",
        "        self.model.compile(optimizer='sgd', loss='mean_squared_error')\n",
        "\n",
        "    # Helper function to predict the Q-function\n",
        "    def predict_q(self, board):\n",
        "        return self.model.predict(\n",
        "            np.array([board.ravel()])).reshape(self.size, self.size)\n",
        "\n",
        "    # Helper function to train the network\n",
        "    def fit_q(self, board, q_values):\n",
        "        self.model.fit(\n",
        "            np.array([board.ravel()]), np.array([q_values.ravel()]), verbose=0)\n",
        "\n",
        "    # The agent preserves history, which is reset when a new game starts.\n",
        "    def new_game(self):\n",
        "        self.last_move = None\n",
        "        self.board_history = []\n",
        "        self.q_history = []\n",
        "\n",
        "\n",
        "    def move(self, board):\n",
        "        q_values = self.predict_q(board)\n",
        "        temp = q_values.copy()\n",
        "        temp[board != 0] = temp.min() - 1  # illegal moves avoided\n",
        "\n",
        "        move = np.unravel_index(np.argmax(temp), board.shape)\n",
        "        value = temp.max()\n",
        "        if self.training and self.last_move is not None:\n",
        "            self.reward(value)\n",
        "\n",
        "        self.board_history.append(board.copy())\n",
        "        self.q_history.append(q_values)\n",
        "        self.last_move = move\n",
        "        return move\n",
        "\n",
        "    # The reward method trains the Q-network, updating the Q-values with \n",
        "    # a new estimate for the last move. This is the Bellman update.\n",
        "    def reward(self, reward_value):\n",
        "        if not self.training:\n",
        "            return\n",
        "        new_q = self.q_history[-1].copy()\n",
        "        new_q[self.last_move] = reward_value\n",
        "        self.fit_q(self.board_history[-1], new_q)"
      ],
      "execution_count": null,
      "outputs": []
    },
    {
      "cell_type": "code",
      "metadata": {
        "id": "RQc7ENOnoA5A",
        "colab": {
          "base_uri": "https://localhost:8080/",
          "height": 346
        },
        "outputId": "2f7a780b-e8a3-4f7f-b556-7705000fbf73"
      },
      "source": [
        "# 3x3, q-learning vs. random\n",
        "\n",
        "# Playing 2000 games, where Player 1 is a Q-network and Player 2 is Random.\n",
        "\n",
        "random.seed(4)\n",
        "agent = Agent(3, seed=4)\n",
        "games=2000\n",
        "results=[None] * 2000\n",
        "\n",
        "\n",
        "for game in range(games):\n",
        "  results[game]=play(new_board(3), {+1: agent, -1: RandomPlayer()})\n",
        "\n",
        "Agent_wins=0\n",
        "Random_player_wins=0\n",
        "draw=0\n",
        "\n",
        "for result in results:\n",
        "        if result==1.0:\n",
        "          Agent_wins+=1\n",
        "        elif result==-1.0: \n",
        "          Random_player_wins+=1\n",
        "        elif result==0:\n",
        "          draw+=1\n",
        "\n",
        "print(\"Q-network agent player has won\",Agent_wins,\"games\")\n",
        "print(\"Random player has won\",Random_player_wins,\"games\")\n",
        "print(\"Number of draw games is\",draw)\n",
        "show(results, title='Plot for Q-Agent vs Random Player')\n"
      ],
      "execution_count": null,
      "outputs": [
        {
          "output_type": "stream",
          "text": [
            "Q-network agent player has won 1734 games\n",
            "Random player has won 217 games\n",
            "Number of draw games is 49\n"
          ],
          "name": "stdout"
        },
        {
          "output_type": "display_data",
          "data": {
            "image/png": "[encoded data removed]",
            "text/plain": [
              "<Figure size 432x288 with 1 Axes>"
            ]
          },
          "metadata": {
            "tags": [],
            "needs_background": "light"
          }
        }
      ]
    }
  ]
}